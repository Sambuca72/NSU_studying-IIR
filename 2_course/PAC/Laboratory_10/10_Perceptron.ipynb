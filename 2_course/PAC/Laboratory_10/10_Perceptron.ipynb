{
 "cells": [
  {
   "cell_type": "markdown",
   "id": "cc223525",
   "metadata": {},
   "source": [
    "# Perceptron"
   ]
  },
  {
   "cell_type": "code",
   "execution_count": 1,
   "id": "cf8401b1",
   "metadata": {},
   "outputs": [],
   "source": [
    "# Importing the necessary libraries\n",
    "import numpy as np\n",
    "import matplotlib.pyplot as plt\n",
    "import torchvision\n",
    "plt.rcParams['figure.figsize'] = 10, 10"
   ]
  },
  {
   "cell_type": "markdown",
   "id": "43f8db4a-9392-4043-b589-3cae994710fb",
   "metadata": {},
   "source": [
    "# Что такое нейронная сеть\n",
    "\n",
    "**Нейронная сеть** — это последовательность нейронов, соединенных между собой синапсами. Структура нейронной сети пришла в мир программирования прямиком из биологии. Благодаря такой структуре, машина обретает способность анализировать и даже запоминать различную информацию. Нейронные сети также способны не только анализировать входящую информацию, но и воспроизводить ее из своей памяти.  \n",
    "![Нейрон](http://aboutyourself.ru/assets/sinaps.jpg)\n",
    "**Аксон** — длинный отросток нейрона. Приспособлен для проведения возбуждения и информации от тела нейрона к нейрону или от нейрона к исполнительному органу.  \n",
    "**Дендриты** — короткие и сильно разветвлённые отростки нейрона, служащие главным местом для образования влияющих на нейрон возбуждающих и тормозных синапсов (разные нейроны имеют различное соотношение длины аксона и дендритов), и которые передают возбуждение к телу нейрона. \n"
   ]
  },
  {
   "cell_type": "markdown",
   "id": "d7469bda-6915-4a97-b5e3-d251a91b5275",
   "metadata": {},
   "source": [
    "### Синапс нейронной сети\n",
    "<img src=\"images/LessonsII/synaps.png\" alt=\"Synaps\" height=20% width=20%>"
   ]
  },
  {
   "cell_type": "markdown",
   "id": "a7166937-a6d0-477f-9380-233fbd14b8db",
   "metadata": {},
   "source": [
    "## Перцептрон\n",
    "\n",
    "<img src=\"images/LessonsII/perceptron.png\" alt=\"vector scalar multiplication\" width=50% height=50% >\n",
    "\n",
    "$A$ - входящий вектор признаков  \n",
    "$W$ - веса модели  \n",
    "$b = w_0$ - сдвиг модели   \n",
    "$y$ - результат модели  \n",
    "$\\sigma$ - функция активации\n",
    "\n",
    "**<center>Смещение</center>**\n",
    "$$\n",
    "A_0 = 1\n",
    "$$\n",
    "$$\n",
    "S = \\sum_{i=0}^nA_iw_i\n",
    "$$"
   ]
  },
  {
   "cell_type": "markdown",
   "id": "62393cc8-79a4-4e65-99ce-0ed0d5445f91",
   "metadata": {},
   "source": [
    "X = [x1, x2, x3]; \n",
    "W = [w1, w2, w3]; \n",
    "$ b = w_0 $\n",
    "$$\n",
    "\\vec x * \\vec W = w_0 + x_1w_1 + x_2w_2 + x_3w_3\n",
    "$$"
   ]
  },
  {
   "cell_type": "markdown",
   "id": "cab08d85",
   "metadata": {},
   "source": [
    "**Набор данных MNIST**"
   ]
  },
  {
   "cell_type": "code",
   "execution_count": 2,
   "id": "7f9ea92d",
   "metadata": {},
   "outputs": [
    {
     "data": {
      "image/png": "[encoded data removed]",
      "text/plain": [
       "<Figure size 432x288 with 25 Axes>"
      ]
     },
     "metadata": {
      "needs_background": "light"
     },
     "output_type": "display_data"
    }
   ],
   "source": [
    "# Initializing the transform for the dataset\n",
    "transform = torchvision.transforms.Compose([\n",
    "                    torchvision.transforms.ToTensor(),\n",
    "                    torchvision.transforms.Normalize((0.5), (0.5))\n",
    "                                            ])\n",
    "\n",
    "# Downloading the MNIST dataset\n",
    "train_dataset = torchvision.datasets.MNIST(\n",
    "    root=\"./MNIST/train\", train=True,\n",
    "    transform=torchvision.transforms.ToTensor(),\n",
    "    download=False)\n",
    "\n",
    "test_dataset = torchvision.datasets.MNIST(\n",
    "    root=\"./MNIST/test\", train=False,\n",
    "    transform=torchvision.transforms.ToTensor(),\n",
    "    download=False)\n",
    "\n",
    "\n",
    "# Printing 25 random images from the training dataset\n",
    "random_samples = np.random.randint(1, len(train_dataset), (25))\n",
    "\n",
    "for idx in range(random_samples.shape[0]):\n",
    "    plt.subplot(5, 5, idx + 1)\n",
    "    plt.imshow(train_dataset[idx][0][0].numpy(), cmap='gray')\n",
    "    plt.title(train_dataset[idx][1])\n",
    "    plt.axis('off')\n",
    "\n",
    "\n",
    "plt.tight_layout()\n",
    "plt.show()"
   ]
  },
  {
   "cell_type": "markdown",
   "id": "8713fcc4",
   "metadata": {},
   "source": [
    "Образцы рукописных цифр из набора данных MNIST, "
   ]
  },
  {
   "cell_type": "code",
   "execution_count": 6,
   "id": "4fa12d3d",
   "metadata": {
    "tags": []
   },
   "outputs": [],
   "source": [
    "test1 = train_dataset[0]\n",
    "# (Img, label)\n",
    "test1"
   ]
  },
  {
   "cell_type": "code",
   "execution_count": 1,
   "id": "36fee20b",
   "metadata": {},
   "outputs": [
    {
     "data": {
      "text/html": [
       "<video src=\"data/MNIST.mp4\" controls  >\n",
       "      Your browser does not support the <code>video</code> element.\n",
       "    </video>"
      ],
      "text/plain": [
       "<IPython.core.display.Video object>"
      ]
     },
     "execution_count": 1,
     "metadata": {},
     "output_type": "execute_result"
    }
   ],
   "source": [
    "from IPython.display import Video\n",
    "\n",
    "Video(\"data/MNIST.mp4\")"
   ]
  },
  {
   "cell_type": "markdown",
   "id": "0e9ed86b",
   "metadata": {},
   "source": [
    "**Превратим данные в вектора**"
   ]
  },
  {
   "cell_type": "code",
   "execution_count": 3,
   "id": "942c5006",
   "metadata": {},
   "outputs": [],
   "source": [
    "def encode_label(j):\n",
    "    # 5 -> [[0], [0], [0], [0], [0], [1], [0], [0], [0], [0]]\n",
    "    e = np.zeros((10,1))\n",
    "    e[j] = 1.0\n",
    "    return e\n",
    "\n",
    "def shape_data(data):\n",
    "    features = [np.reshape(x[0][0].numpy(), (784,1)) for x in data]\n",
    "    labels = [encode_label(y[1]) for y in data]\n",
    "    return zip(features, labels)"
   ]
  },
  {
   "cell_type": "code",
   "execution_count": 8,
   "id": "fe1282ca",
   "metadata": {
    "tags": []
   },
   "outputs": [],
   "source": [
    "test2 = [test1]\n",
    "reshape = shape_data(test2)\n",
    "list(reshape)"
   ]
  },
  {
   "cell_type": "code",
   "execution_count": 9,
   "id": "0396f3b7",
   "metadata": {},
   "outputs": [],
   "source": [
    "train = shape_data(train_dataset)\n",
    "test = shape_data(test_dataset)"
   ]
  },
  {
   "cell_type": "code",
   "execution_count": 10,
   "id": "74946602",
   "metadata": {},
   "outputs": [
    {
     "name": "stdout",
     "output_type": "stream",
     "text": [
      "train imgs - 60000\n",
      "test imgs - 10000\n"
     ]
    }
   ],
   "source": [
    "train = list(train)\n",
    "test = list(test)\n",
    "print('train imgs -', len(train))\n",
    "print('test imgs -', len(test))"
   ]
  },
  {
   "cell_type": "code",
   "execution_count": null,
   "id": "04b2d173-383d-431c-b858-b23427e628e7",
   "metadata": {},
   "outputs": [],
   "source": [
    "# Итого:\n",
    "#   Изображения превращены в векторы размера 784, лэйблы - 10\n",
    "#   Осталось подобрать такой вектор весов W, чтобы скалярное умножение цифры 8 с ним\n",
    "#   давало большое значение."
   ]
  },
  {
   "cell_type": "markdown",
   "id": "39b973ae-a374-435d-a4c0-3e235e829bb6",
   "metadata": {},
   "source": [
    "<img src=\"images/LessonsII/vec_multiplication.jpg\" alt=\"vector scalar multiplication\" width=40% height=40% >\n",
    "\n",
    "Где V - это вектор изображения, W - веса нейросети\n"
   ]
  },
  {
   "cell_type": "code",
   "execution_count": null,
   "id": "e2f5f280-b213-45d6-ae2a-f49541676e60",
   "metadata": {},
   "outputs": [],
   "source": []
  },
  {
   "cell_type": "markdown",
   "id": "a3208987",
   "metadata": {},
   "source": [
    "**Веса перцептрона**"
   ]
  },
  {
   "cell_type": "code",
   "execution_count": 1,
   "id": "06289edb",
   "metadata": {},
   "outputs": [],
   "source": [
    "# Что нужно для распознавания 8ки?\n",
    "# 1) Параллельные (коллинеарные) векторы. \n",
    "# Чтобы умножение давало максимальное значение\n",
    "# 2) Получить образ числа\n",
    "# среднее представление 8ки (также как человек имеет среднее представление у себя в голове)"
   ]
  },
  {
   "cell_type": "code",
   "execution_count": 11,
   "id": "5a3966b6",
   "metadata": {},
   "outputs": [],
   "source": [
    "def average_digit(data, digit):\n",
    "    filtered_data = [x[0] for x in data if np.argmax(x[1]) == digit]\n",
    "    filtered_array = np.asarray(filtered_data)\n",
    "    return np.average(filtered_array, axis=0)"
   ]
  },
  {
   "cell_type": "code",
   "execution_count": 12,
   "id": "6b23ef93",
   "metadata": {},
   "outputs": [],
   "source": [
    "avg_eight = average_digit(train, 8)"
   ]
  },
  {
   "cell_type": "code",
   "execution_count": 13,
   "id": "bb9a728e",
   "metadata": {},
   "outputs": [
    {
     "data": {
      "image/png": "[encoded data removed]",
      "text/plain": [
       "<Figure size 432x288 with 1 Axes>"
      ]
     },
     "metadata": {
      "needs_background": "light"
     },
     "output_type": "display_data"
    }
   ],
   "source": [
    "img = (np.reshape(avg_eight, (28, 28)))\n",
    "plt.imshow(img)\n",
    "plt.show()"
   ]
  },
  {
   "cell_type": "markdown",
   "id": "a087cb52",
   "metadata": {},
   "source": [
    "Это  среднее  представление  цифры  8 (avg_eight) из обучающего  набора  MNIST \n",
    "содержит большое количество информации о том, какими общими свойствами \n",
    "должны  обладать  изображения  восьмерки.  Мы  используем  avg_eight  в  качестве \n",
    "параметров простой модели, чтобы определить, является ли данный входной вектор x, представляющий цифру, изображением восьмерки. Когда речь идет о нейронных сетях, под параметрами, как правило, подразумеваются веса, и в данном \n",
    "случае avg_eight будет выступать именно в качестве веса."
   ]
  },
  {
   "cell_type": "code",
   "execution_count": 14,
   "id": "80b6feb9",
   "metadata": {},
   "outputs": [],
   "source": [
    "# train[ indx ][ img/label ]\n",
    "x_2 = train[2][0] # 4-ка\n",
    "x_17 = train[17][0] # 8-ка\n",
    "W = np.transpose(avg_eight)"
   ]
  },
  {
   "cell_type": "code",
   "execution_count": 15,
   "id": "6ab8f7bf",
   "metadata": {},
   "outputs": [
    {
     "data": {
      "text/plain": [
       "array([[0.],\n",
       "       [0.],\n",
       "       [0.],\n",
       "       [0.],\n",
       "       [0.],\n",
       "       [0.],\n",
       "       [0.],\n",
       "       [0.],\n",
       "       [1.],\n",
       "       [0.]])"
      ]
     },
     "execution_count": 15,
     "metadata": {},
     "output_type": "execute_result"
    }
   ],
   "source": [
    "train[17][1]"
   ]
  },
  {
   "cell_type": "code",
   "execution_count": 16,
   "id": "9e1acfd6",
   "metadata": {},
   "outputs": [
    {
     "data": {
      "image/png": "[encoded data removed]",
      "text/plain": [
       "<Figure size 432x288 with 2 Axes>"
      ]
     },
     "metadata": {
      "needs_background": "light"
     },
     "output_type": "display_data"
    }
   ],
   "source": [
    "img_2 = (np.reshape(x_2, (28, 28)))\n",
    "img_17 = (np.reshape(x_17, (28, 28)))\n",
    "\n",
    "plt.subplot(1, 2, 1)\n",
    "plt.imshow(img_2)\n",
    "plt.subplot(1, 2, 2)\n",
    "plt.imshow(img_17)\n",
    "plt.show()"
   ]
  },
  {
   "cell_type": "markdown",
   "id": "d53bc999",
   "metadata": {},
   "source": [
    "Вычислим скалярное произведение W и x, т. е. попарно перемножим \n",
    "значения W и x и суммируем все 784 результирующих значения. Если наша гипотеза верна и x соответствует 8, то более темные пиксели должны располагаться примерно в тех же местах, что и в случае W, и наоборот. Если же х не соответствует 8, то \n",
    "совпадений должно быть меньше. Давайте проверим эту гипотезу на нескольких \n",
    "примерах."
   ]
  },
  {
   "cell_type": "code",
   "execution_count": 28,
   "id": "2baf3e25",
   "metadata": {},
   "outputs": [
    {
     "data": {
      "text/plain": [
       "2.7090142"
      ]
     },
     "execution_count": 28,
     "metadata": {},
     "output_type": "execute_result"
    }
   ],
   "source": [
    "res_4by8 = np.dot(W, x_2)[0][0] / np.linalg.norm(W)\n",
    "res_4by8 "
   ]
  },
  {
   "cell_type": "code",
   "execution_count": 29,
   "id": "1f5c969d",
   "metadata": {},
   "outputs": [
    {
     "data": {
      "text/plain": [
       "7.351549"
      ]
     },
     "execution_count": 29,
     "metadata": {},
     "output_type": "execute_result"
    }
   ],
   "source": [
    "res_8by8 = np.dot(W, x_17)[0][0] / np.linalg.norm(W)\n",
    "res_8by8"
   ]
  },
  {
   "cell_type": "markdown",
   "id": "4c63062f",
   "metadata": {},
   "source": [
    "### Функция активации перцептрона"
   ]
  },
  {
   "cell_type": "markdown",
   "id": "f2feb669",
   "metadata": {},
   "source": [
    "**Ступенчатая функция (binary step function)**"
   ]
  },
  {
   "cell_type": "markdown",
   "id": "8928bd69",
   "metadata": {},
   "source": [
    "\\begin{equation}\n",
    "    \\begin{matrix}\n",
    "    {F(x)} & =\n",
    "    & \\left\\{\n",
    "    \\begin{matrix}\n",
    "    1 &  \\mbox{if } x \\geq 0  \\\\\n",
    "    0 &  \\mbox{if } x < 0 & \n",
    "    \\end{matrix} \\right.\n",
    "    \\end{matrix}\n",
    "\\end{equation}"
   ]
  },
  {
   "cell_type": "markdown",
   "id": "adaa16c6",
   "metadata": {},
   "source": [
    "<img src=\"images/LessonsII/binary_step_function.png\" alt=\"Binary\" height=40% width=40%>"
   ]
  },
  {
   "cell_type": "code",
   "execution_count": 25,
   "id": "33127b26",
   "metadata": {},
   "outputs": [],
   "source": [
    "def binary_step(x):\n",
    "    return 1.0 if x>=0 else 0"
   ]
  },
  {
   "cell_type": "code",
   "execution_count": 30,
   "id": "b16ec257",
   "metadata": {},
   "outputs": [
    {
     "name": "stdout",
     "output_type": "stream",
     "text": [
      "Это 8-ка - True\n"
     ]
    }
   ],
   "source": [
    "res = binary_step(res_4by8)\n",
    "print(f\"Это 8-ка - {bool(res)}\")"
   ]
  },
  {
   "cell_type": "code",
   "execution_count": 31,
   "id": "b794d823",
   "metadata": {},
   "outputs": [
    {
     "name": "stdout",
     "output_type": "stream",
     "text": [
      "Это 8-ка - True\n"
     ]
    }
   ],
   "source": [
    "res = binary_step(res_8by8)\n",
    "print(f\"Это 8-ка - {bool(res)}\")"
   ]
  },
  {
   "cell_type": "markdown",
   "id": "2a0e84e2",
   "metadata": {},
   "source": [
    "Добавим \"смещение\""
   ]
  },
  {
   "cell_type": "code",
   "execution_count": 34,
   "id": "cac036bb",
   "metadata": {},
   "outputs": [],
   "source": [
    "b = -45"
   ]
  },
  {
   "cell_type": "code",
   "execution_count": 32,
   "id": "0fd5a4dd",
   "metadata": {},
   "outputs": [],
   "source": [
    "def predict(x, W, b):\n",
    "    return binary_step((np.dot(W,x) + b)/ np.linalg.norm(W))"
   ]
  },
  {
   "cell_type": "code",
   "execution_count": 35,
   "id": "1e75957b-92ad-4819-97cc-c63c246b9276",
   "metadata": {},
   "outputs": [
    {
     "name": "stdout",
     "output_type": "stream",
     "text": [
      "Это 8-ка - False\n"
     ]
    }
   ],
   "source": [
    "res = predict(x_2, W, b)\n",
    "print(f\"Это 8-ка - {bool(res)}\")"
   ]
  },
  {
   "cell_type": "code",
   "execution_count": 36,
   "id": "550dbae3",
   "metadata": {},
   "outputs": [
    {
     "name": "stdout",
     "output_type": "stream",
     "text": [
      "Это 8-ка - True\n"
     ]
    }
   ],
   "source": [
    "res = predict(x_17, W, b)\n",
    "print(f\"Это 8-ка - {bool(res)}\")"
   ]
  },
  {
   "cell_type": "markdown",
   "id": "d7b2bd55-2f5f-46d7-a956-1fefced32619",
   "metadata": {},
   "source": [
    "Верность предсказаний \"восьмерок\" нашей простой моделью составляет 78% (0,7814) - на обучающих данных и 77% (0,7749) на тестовых"
   ]
  },
  {
   "cell_type": "markdown",
   "id": "d19da398",
   "metadata": {},
   "source": [
    "**FC**"
   ]
  },
  {
   "cell_type": "markdown",
   "id": "cc38815f-021a-4531-a791-db45169f5838",
   "metadata": {},
   "source": [
    "<img src=\"images/LessonsII/mnist_fc.png\" alt=\"FC\" height=40% width=40%>"
   ]
  },
  {
   "cell_type": "code",
   "execution_count": 2,
   "id": "8a809864",
   "metadata": {},
   "outputs": [
    {
     "data": {
      "text/html": [
       "<video src=\"data/FC.mp4\" controls  >\n",
       "      Your browser does not support the <code>video</code> element.\n",
       "    </video>"
      ],
      "text/plain": [
       "<IPython.core.display.Video object>"
      ]
     },
     "execution_count": 2,
     "metadata": {},
     "output_type": "execute_result"
    }
   ],
   "source": [
    "Video(\"data/FC.mp4\")"
   ]
  },
  {
   "cell_type": "markdown",
   "id": "eec79bf2-1f16-47ba-a922-071d614f46dd",
   "metadata": {},
   "source": [
    "https://adamharley.com/nn_vis/mlp/2d.html"
   ]
  },
  {
   "cell_type": "markdown",
   "id": "3ebc50e1",
   "metadata": {},
   "source": [
    "Минусы\n",
    "- Большое количество параметров\n",
    "- Отсутствие трансляционной инвариантности"
   ]
  },
  {
   "cell_type": "markdown",
   "id": "b414dc8c-3172-49d9-b2c2-6c81f0a2ec56",
   "metadata": {},
   "source": [
    "# Нейрон как разделяющая гиперплоскость"
   ]
  },
  {
   "cell_type": "markdown",
   "id": "447c40e0-f498-4126-bf3f-12343f6fb5b4",
   "metadata": {},
   "source": [
    "Что мы на самом деле сделали, когда нашли коллинеарный вектор W = avg_eight и смещение b?"
   ]
  },
  {
   "cell_type": "markdown",
   "id": "15bb5dbe-3c99-4bb3-a292-649b6db4d4be",
   "metadata": {},
   "source": [
    "<img src=\"images/LessonsII/avg_digit.png\" alt=\"avgarage digit.png\" height=30% width=30%>"
   ]
  },
  {
   "cell_type": "markdown",
   "id": "532e1449-b6f4-4a1c-b95e-348a76a6af85",
   "metadata": {},
   "source": [
    "Прямая линия на плоскости задаётся уравнением \n",
    "$ x_1w_1 + x_2w_2 + b = 0 $ или $  \\vec x^T * \\vec w + b = 0$"
   ]
  },
  {
   "cell_type": "markdown",
   "id": "54db999d-2009-4fda-9c83-c1d57ed04961",
   "metadata": {},
   "source": [
    "Где первые два коэффициента $w_1, w_2$ задают всё семейство прямых линий, проходящих через точку (0, 0). Соотношение между $w_1$ и $w_2$ определяет угол наклона прямой к осям."
   ]
  },
  {
   "cell_type": "markdown",
   "id": "581b7b59-28b7-4fcf-921f-20ad22a7e7ef",
   "metadata": {},
   "source": [
    "А вектор $(w_1, w_2)$ — это нормаль к прямой $w_1 x_1 + w_2 x_2 + b = 0$:"
   ]
  },
  {
   "cell_type": "markdown",
   "id": "84879108-1031-411e-a894-05b6cb27927d",
   "metadata": {},
   "source": [
    "Таким образом наш вектор $\\vec W $ = avg_eight является нормалью к прямой $x_1w_1 + x_2w_2 + b = 0 $"
   ]
  },
  {
   "cell_type": "markdown",
   "id": "e2f6823d-368a-4733-97d4-19dc89d68ac7",
   "metadata": {},
   "source": [
    "<img src=\"images/LessonsII/normal_line.png\" alt=\"avgarage digit\" height=30% width=30%>\n"
   ]
  },
  {
   "cell_type": "markdown",
   "id": "6e9721ab-570e-4834-b2cd-b2e8574b62da",
   "metadata": {},
   "source": [
    "Все точки **x**, лежащие на этой прямой, при скалярном умножении на **w** дают 0. Если точка **x** лежит \"над прямой\", то > 0, если \"под прямой\" - меньше."
   ]
  },
  {
   "cell_type": "markdown",
   "id": "602b87d0-25aa-4a17-aec2-acf2b8d949cc",
   "metadata": {},
   "source": [
    "Другими словами:\n",
    "\n",
    "\n",
    "$w^T x + b > 0$ — точка лежит «выше» гиперплоскости\n",
    "\n",
    "$w^T x + b < 0$ — точка лежит «ниже» гиперплоскости"
   ]
  },
  {
   "cell_type": "markdown",
   "id": "82dc7f27-68a6-4bfa-b8e8-e834c635aa1d",
   "metadata": {},
   "source": [
    "<img src=\"images/LessonsII/dist.png\" alt=\"dist\" height=15% width=15%>\n"
   ]
  },
  {
   "cell_type": "markdown",
   "id": "986d625b-9f43-4c2e-9696-653fd4791689",
   "metadata": {},
   "source": [
    "Расстояние от произвольной точки $x$ до гиперплоскости равно $ \\vec d = \\vec w * (\\vec x - \\vec x_0)$, где $x_0 $ - точка, принадлежащая гиперплоскости ($w^Tx_0 + b = 0$)"
   ]
  },
  {
   "cell_type": "markdown",
   "id": "768428cf-8394-475d-95ec-ddf21042bd4f",
   "metadata": {},
   "source": [
    "<img src=\"images/LessonsII/hyperplane.png\" alt=\"hyperplane\" height=30% width=30%>"
   ]
  },
  {
   "cell_type": "markdown",
   "id": "947f2ac3-da71-4af0-8c7e-ce9e04e58ec0",
   "metadata": {},
   "source": [
    "$ \\vec d = \\vec w * (\\vec x - \\vec x_0) = -\\vec w * \\vec x_0 + \\vec w *\\vec x = \\vec b + \\vec w *\\vec x$\n",
    "\n",
    "\n",
    "$b = - \\vec w * \\vec x_0 $"
   ]
  },
  {
   "cell_type": "markdown",
   "id": "55ff48dc-48a5-4b8f-a58e-8dd891a1a31f",
   "metadata": {},
   "source": [
    "$d(x) = { w^T x + b \\over ||w||} $"
   ]
  },
  {
   "cell_type": "markdown",
   "id": "def893fe-8078-4d3b-8540-1cb02fc92585",
   "metadata": {},
   "source": [
    "Вернёмся к нейрону. Несложно видеть, что он вычисляет расстояние d от точки с координатами x=(x1,...,xn) (вектор входов) до гиперплоскости (b, ω). Параметры нейрона ω=(w1,...,wn) определяют направление нормали гиперплоскости, а b связан со смещением плоскости вдоль вектора ω. "
   ]
  },
  {
   "cell_type": "markdown",
   "id": "81797df5-1bd0-40b1-864a-c1bd2066f9ce",
   "metadata": {},
   "source": [
    "<img src=\"images/LessonsII/hyper_neuron.png\" alt=\"hyper_neuron\" height=30% width=30%>\n",
    "\n",
    "Если два класса в пространстве признаков разделяются гиперплоскостью, то для их распознавания достаточно одного нейрона. "
   ]
  },
  {
   "cell_type": "markdown",
   "id": "1fea6504-398e-4ca1-bc7e-139ca54ceb59",
   "metadata": {},
   "source": [
    "Слой состоящий из 3-х нейронов выглядит следующим образом: Каждый выходной нейрон отделяет \"свой класс\" от остальных двух."
   ]
  },
  {
   "cell_type": "markdown",
   "id": "fb9774c7-1bc2-4e4a-a663-59b1851383f8",
   "metadata": {},
   "source": [
    "<img src=\"images/LessonsII/hyper_neurons.png\" alt=\"hyper_neurons\" height=30% width=30%>"
   ]
  },
  {
   "cell_type": "code",
   "execution_count": 3,
   "id": "de2a732a-17d0-438c-96d4-196ccd51a88a",
   "metadata": {},
   "outputs": [],
   "source": [
    "# http://synset.com/ai/ru/nn/NeuralNet_01_Intro.html"
   ]
  },
  {
   "cell_type": "markdown",
   "id": "73365e30-6bb9-4d0b-9f35-d804324cde93",
   "metadata": {},
   "source": [
    "# Задание\n",
    "0. Нельзя пользоваться фреймворками глубокого обучения - Pytorch, TensorFlow, Keras и т.д.\n",
    "1. Рассчитать average_digit (матрицу весов) для каждой цифры от 0 до 9, по аналогии с (avg_eight). \n",
    "2. Создать десять классификаторов с весами \"avg_digit\". На вход классификатора подаётся цифра из тестового набора, а на выходе мы получаем 0 или 1, в зависимости от того принадлежит ли цифра нужному классу ('0' - '9'). Добавить смещение (bias).\n",
    "2. Рассчитать точность каждого классификатора.\n",
    "3. Объеденить получившиеся классификаторы в одну модель, которая принимает картинку, а выдаёт вектор размера 10. (напр. input=[3], output = [0, 0, 0, 1, 0, 0, 0, 0, 0, 0]).\n",
    "4. Рассчитать 𝑝𝑟𝑒𝑐𝑖𝑠𝑖𝑜𝑛 и 𝑟𝑒𝑐𝑎𝑙𝑙 получившейся модели на тестовом наборе.\n",
    "5. Визуализировать набор необработанных данных с помощью алгоритма t-SNE. Взять 30 изображений каждого класса, каждое изображение перевести в вектор размера (784), визуализировать полученные вектора с помощью t-SNE.\n",
    "6. Визуализировать результаты работы вашей модели (логиты) с помощью алгоритма t-SNE. Прогнать изображения через вашу модель, получившиеся вектора размера (10) визуализировать с помощью t-SNE."
   ]
  },
  {
   "cell_type": "markdown",
   "id": "f3b2c8d9",
   "metadata": {},
   "source": [
    "$precision = {TP \\over TP + FP} $\n",
    "$recall = {TP \\over TP + FN}$"
   ]
  },
  {
   "cell_type": "markdown",
   "id": "f7b04b5e-e99f-4375-895a-007d1c08fb48",
   "metadata": {},
   "source": [
    "## Что должно получиться (примерно):"
   ]
  },
  {
   "cell_type": "markdown",
   "id": "7866121d-d247-480c-acd1-7ba74acf20b6",
   "metadata": {},
   "source": [
    "MNIST_images\n",
    "<img src=\"images/LessonsII/mnist_training_data_tSNE.png\" alt=\"Regression\" height=30% width=30%>\n",
    "MNIST_embeddings\n",
    "<img src=\"images/LessonsII/mnist_embeddings_tSNE.png\" alt=\"Regression\" height=30% width=30%>"
   ]
  },
  {
   "cell_type": "code",
   "execution_count": null,
   "id": "d2cf90cf-875e-4d0f-9d7c-722a0cb5f02b",
   "metadata": {},
   "outputs": [],
   "source": []
  }
 ],
 "metadata": {
  "kernelspec": {
   "display_name": "Python 3 (ipykernel)",
   "language": "python",
   "name": "python3"
  },
  "language_info": {
   "codemirror_mode": {
    "name": "ipython",
    "version": 3
   },
   "file_extension": ".py",
   "mimetype": "text/x-python",
   "name": "python",
   "nbconvert_exporter": "python",
   "pygments_lexer": "ipython3",
   "version": "3.12.4"
  }
 },
 "nbformat": 4,
 "nbformat_minor": 5
}
