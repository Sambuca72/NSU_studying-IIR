{
 "cells": [
  {
   "cell_type": "markdown",
   "id": "fa32cfd8-f2b2-4558-9690-3310515160e5",
   "metadata": {},
   "source": [
    "# Общая идея эксперимента\n",
    "Идея нашего эксперимента состоит в следующем: мы будем многократно\n",
    "случайным образом “бросать” точки в квадрат и моделировать вероятность того, что выбранная точка попадёт в окружность, вписанную в этот квадрат. Вероятность того, что случайная точка, выбранная внутри квадрата попадёт в окружность, пропорциональна отношению площади окружности\n",
    "к площади квадрата. Так как площадь окружности пропорциональна числу π, измеряя долю точек, попавших в окружность, мы можем оценить значе-\n",
    "ние π.\n",
    "\n",
    "Процесс можно описать следующим образом:\n",
    "\n",
    "1. Мы генерируем множество точек внутри квадрата с помощью равно-мерного распределения.\n",
    "2. Для каждой точки проверяем, попала ли она внутрь окружности.\n",
    "3. Подсчитываем долю точек, попавших в окружность, по сравнению с общим числом точек.\n",
    "\n",
    "4. Используя это соотношение, приближённо вычисляем значение числа π.\n",
    "\n",
    "Дополнительно вам необходимо построить график зависимости точно-\n",
    "сти приближения числа π от количества использованных точек. Для этого\n",
    "не обязательно генерировать новые точки на каждом шаге, а можно пере-\n",
    "считывать вероятность, приближенное значение π и, соответственно, точ-\n",
    "ность приближения после генерациикаждой новой точки. Это позволит ви-\n",
    "зуализировать, как увеличивается точность с ростом числа использованных точек.\n",
    "Описанный здесь метод для вычисления числа π называется также ме-\n",
    "тодом Монте-Карло. Этот метод основан на повторении экспериментов для получения статистически значимых результатов,\n",
    "\n",
    "(x - x0)² + (y - y0)² ≤ R², где (x, y) — координаты точки, (x0, y0) — центр окружности, а R — радиус. \n"
   ]
  },
  {
   "cell_type": "code",
   "execution_count": 7,
   "id": "88cecab6-003d-4a70-a791-ab73198fe2d5",
   "metadata": {},
   "outputs": [
    {
     "name": "stdin",
     "output_type": "stream",
     "text": [
      " 52000000\n"
     ]
    },
    {
     "name": "stdout",
     "output_type": "stream",
     "text": [
      "Приближённое значение π: 3.141774\n"
     ]
    },
    {
     "ename": "TypeError",
     "evalue": "'float' object cannot be interpreted as an integer",
     "output_type": "error",
     "traceback": [
      "\u001b[0;31m---------------------------------------------------------------------------\u001b[0m",
      "\u001b[0;31mTypeError\u001b[0m                                 Traceback (most recent call last)",
      "Cell \u001b[0;32mIn[7], line 34\u001b[0m\n\u001b[1;32m     32\u001b[0m \u001b[38;5;66;03m# Построение графика зависимости точности (ошибки) от количества точек\u001b[39;00m\n\u001b[1;32m     33\u001b[0m plt\u001b[38;5;241m.\u001b[39mfigure(figsize\u001b[38;5;241m=\u001b[39m(\u001b[38;5;241m10\u001b[39m, \u001b[38;5;241m6\u001b[39m))\n\u001b[0;32m---> 34\u001b[0m plt\u001b[38;5;241m.\u001b[39mplot(\u001b[38;5;28mrange\u001b[39m(\u001b[38;5;241m1\u001b[39m,amount_of_points\u001b[38;5;241m/\u001b[39m\u001b[38;5;241m100\u001b[39m  \u001b[38;5;241m+\u001b[39m \u001b[38;5;241m1\u001b[39m), errors, label\u001b[38;5;241m=\u001b[39m\u001b[38;5;124m'\u001b[39m\u001b[38;5;124mАбсолютная ошибка |π_approx - π|\u001b[39m\u001b[38;5;124m'\u001b[39m, color\u001b[38;5;241m=\u001b[39m\u001b[38;5;124m'\u001b[39m\u001b[38;5;124mblue\u001b[39m\u001b[38;5;124m'\u001b[39m)\n\u001b[1;32m     35\u001b[0m plt\u001b[38;5;241m.\u001b[39mxlabel(\u001b[38;5;124m'\u001b[39m\u001b[38;5;124mКоличество использованных точек\u001b[39m\u001b[38;5;124m'\u001b[39m)\n\u001b[1;32m     36\u001b[0m plt\u001b[38;5;241m.\u001b[39mylabel(\u001b[38;5;124m'\u001b[39m\u001b[38;5;124mТочность приближения (абсолютная ошибка)\u001b[39m\u001b[38;5;124m'\u001b[39m)\n",
      "\u001b[0;31mTypeError\u001b[0m: 'float' object cannot be interpreted as an integer"
     ]
    },
    {
     "data": {
      "text/plain": [
       "<Figure size 1000x600 with 0 Axes>"
      ]
     },
     "metadata": {},
     "output_type": "display_data"
    }
   ],
   "source": [
    "import numpy as np\n",
    "import math\n",
    "import matplotlib.pyplot as plt\n",
    "\n",
    "\n",
    "class LCG:\n",
    "    def __init__(self, start_value = 0, a = 6364136223846793005, b = 1442695040888963407, m = 2 ** 64):\n",
    "        self.current = start_value\n",
    "        self.a = a\n",
    "        self.b = b\n",
    "        self.m = m\n",
    "\n",
    "    def next(self):\n",
    "        self.current = (self.a * self.current + self.b) % self.m\n",
    "        return self.current\n",
    "    def uniform(self):\n",
    "        return self.next()/self.m\n",
    "\n",
    "# Ввод количества точек\n",
    "amount_of_points = int(input())\n",
    "\n",
    "# Генерация случайных точек\n",
    "points = np.random.rand(amount_of_points, 2)\n",
    "\n",
    "# Инициализация списков для накопления данных\n",
    "inside_points = []\n",
    "cumulative_inside = []  # Накопленное количество точек внутри круга\n",
    "pi_approximations = []  # Приближённые значения π\n",
    "errors = []            # Абсолютные ошибки\n",
    "true_pi = math.pi      # Истинное значение π\n",
    "\n",
    "# Последовательное добавление точек и пересчёт\n",
    "cnt = 0\n",
    "for i, point in enumerate(points):\n",
    "    if ((point[0] - 0.5) ** 2 + (point[1] - 0.5) ** 2) <= 0.25:\n",
    "        inside_points.append(point)\n",
    "    cumulative_inside.append(len(inside_points))\n",
    "    pi_approx = 4 * len(inside_points) / (i + 1)\n",
    "    pi_approximations.append(pi_approx)\n",
    "    cnt+=1\n",
    "    if cnt == 100: errors.append(abs(pi_approx - true_pi)); cnt = 0\n",
    "\n",
    "# Вывод финального приближённого значения π\n",
    "print(f\"Приближённое значение π: {pi_approximations[-1]:.6f}\")\n",
    "\n",
    "# Построение графика зависимости точности (ошибки) от количества точек\n",
    "plt.figure(figsize=(10, 6))\n",
    "plt.plot(range(1,amount_of_points/100  + 1), errors, label='Абсолютная ошибка |π_approx - π|', color='blue')\n",
    "plt.xlabel('Количество использованных точек')\n",
    "plt.ylabel('Точность приближения (абсолютная ошибка)')\n",
    "plt.title('Зависимость точности приближения π от количества точек')\n",
    "plt.yscale('log')  # Логарифмическая шкала для лучшей визуализации уменьшения ошибки\n",
    "plt.grid(True, alpha=0.3)\n",
    "plt.legend()\n",
    "plt.show()"
   ]
  },
  {
   "cell_type": "code",
   "execution_count": null,
   "id": "43c9f2b1-55e5-4308-a43c-d96e258fc3c3",
   "metadata": {},
   "outputs": [],
   "source": [
    "import time\n",
    "SEED = int ( time . time_ns ())\n"
   ]
  },
  {
   "cell_type": "code",
   "execution_count": null,
   "id": "87482810-5ef5-48cb-a66a-63a5e445c343",
   "metadata": {},
   "outputs": [],
   "source": []
  }
 ],
 "metadata": {
  "kernelspec": {
   "display_name": "Python [conda env:base] *",
   "language": "python",
   "name": "conda-base-py"
  },
  "language_info": {
   "codemirror_mode": {
    "name": "ipython",
    "version": 3
   },
   "file_extension": ".py",
   "mimetype": "text/x-python",
   "name": "python",
   "nbconvert_exporter": "python",
   "pygments_lexer": "ipython3",
   "version": "3.13.5"
  }
 },
 "nbformat": 4,
 "nbformat_minor": 5
}
