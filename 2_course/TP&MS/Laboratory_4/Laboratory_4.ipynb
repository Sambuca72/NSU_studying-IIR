{
 "cells": [
  {
   "cell_type": "code",
   "execution_count": null,
   "id": "7c181893",
   "metadata": {},
   "outputs": [],
   "source": [
    "import numpy as np\n",
    "\n",
    "def puasson_process(Lambda, n, N):\n",
    "    p = min(Lambda/n, 1)\n",
    "    q = 1 - p\n",
    "    \n",
    "    succeses = np.zeros(n)\n",
    "    distances"
   ]
  },
  {
   "cell_type": "code",
   "execution_count": null,
   "id": "0fd47323",
   "metadata": {},
   "outputs": [],
   "source": []
  }
 ],
 "metadata": {
  "language_info": {
   "name": "python"
  }
 },
 "nbformat": 4,
 "nbformat_minor": 5
}
