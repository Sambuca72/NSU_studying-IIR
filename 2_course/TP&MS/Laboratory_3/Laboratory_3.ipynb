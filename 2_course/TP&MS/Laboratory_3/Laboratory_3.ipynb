{
 "cells": [
  {
   "cell_type": "markdown",
   "id": "d53341b6",
   "metadata": {},
   "source": [
    "**Генерация выборки**"
   ]
  },
  {
   "cell_type": "code",
   "execution_count": 17,
   "id": "ee1d6744",
   "metadata": {},
   "outputs": [
    {
     "data": {
      "text/plain": [
       "0       1.229856\n",
       "1       1.176416\n",
       "2       0.642070\n",
       "3       0.553218\n",
       "4       1.623597\n",
       "          ...   \n",
       "9995    0.237337\n",
       "9996    2.697442\n",
       "9997    1.666279\n",
       "9998    0.106205\n",
       "9999    0.311335\n",
       "Length: 10000, dtype: float64"
      ]
     },
     "execution_count": 17,
     "metadata": {},
     "output_type": "execute_result"
    }
   ],
   "source": [
    "import numpy as np\n",
    "import pandas as pd\n",
    "X = np . random . exponential ( scale =1.0 , size =10000)\n",
    "X = pd.Series(X)\n",
    "X"
   ]
  },
  {
   "cell_type": "markdown",
   "id": "4c5fd1f8",
   "metadata": {},
   "source": [
    " **Реализация MAD**"
   ]
  },
  {
   "cell_type": "code",
   "execution_count": 13,
   "id": "d875744b",
   "metadata": {},
   "outputs": [],
   "source": [
    "def MAD(data : pd.Series):\n",
    "    abs_deviations = (data - data.median()).abs()\n",
    "    return abs_deviations.median()"
   ]
  },
  {
   "cell_type": "markdown",
   "id": "291d8739",
   "metadata": {},
   "source": [
    "**Реализация метода BOOTSTRAP**"
   ]
  },
  {
   "cell_type": "code",
   "execution_count": 14,
   "id": "594c63bb",
   "metadata": {},
   "outputs": [],
   "source": [
    "def bootstrap(data : pd.Series, M : int):\n",
    "    n = len(data)\n",
    "    res_MAD = pd.Series(np.zeros(M))\n",
    "    res_STD = pd.Series(np.zeros(M))\n",
    "    for i in range(M):\n",
    "        bootstrap_result = data.sample(n = n, replace= True)\n",
    "        res_MAD[i] = MAD(bootstrap_result)\n",
    "        res_STD[i] = bootstrap_result.var(ddof=1)\n",
    "\n",
    "    return res_MAD, res_STD\n",
    "\n"
   ]
  },
  {
   "cell_type": "markdown",
   "id": "81109344",
   "metadata": {},
   "source": [
    "**Нахождение доверительного интервала**"
   ]
  },
  {
   "cell_type": "code",
   "execution_count": 15,
   "id": "25360f85",
   "metadata": {},
   "outputs": [],
   "source": [
    "def certain_interval(data : pd.Series, M : int, alpha : float):\n",
    "    sorted_data = data.sort_values()\n",
    "    lower_idx = int(np.ceil(M * alpha / 2))\n",
    "    upper_idx = int(np.floor(M * (1 - alpha / 2)))\n",
    "    ci_lower = sorted_data.iloc[lower_idx]\n",
    "    ci_upper = sorted_data.iloc[upper_idx]\n",
    "    return ci_lower, ci_upper"
   ]
  },
  {
   "cell_type": "code",
   "execution_count": 18,
   "id": "3aa76f28",
   "metadata": {},
   "outputs": [
    {
     "name": "stdout",
     "output_type": "stream",
     "text": [
      "Доверительный интервал 50% для MAD:(0.47855, 0.48872)\n",
      "Доверительный интервал 50% для STD:(0.96289, 1.00069)\n"
     ]
    }
   ],
   "source": [
    "M = int(input(\"Введите количество генерируемых выборок:\\n\"))\n",
    "alpha = float(input(\"Введите уверенность для ДИ\"))\n",
    "\n",
    "bootstrap_mad, bootstrap_std = bootstrap(X, M)\n",
    "mad_ci_lower, mad_ci_upper = certain_interval(bootstrap_mad, M, alpha)\n",
    "std_ci_lower, std_ci_upper = certain_interval(bootstrap_std, M, alpha)\n",
    "\n",
    "print(f\"Доверительный интервал {int((1 - alpha)*100)}% для MAD:({mad_ci_lower:.5f}, {mad_ci_upper:.5f})\")\n",
    "print(f\"Доверительный интервал {int((1 - alpha)*100)}% для STD:({std_ci_lower:.5f}, {std_ci_upper:.5f})\")"
   ]
  }
 ],
 "metadata": {
  "kernelspec": {
   "display_name": "base",
   "language": "python",
   "name": "python3"
  },
  "language_info": {
   "codemirror_mode": {
    "name": "ipython",
    "version": 3
   },
   "file_extension": ".py",
   "mimetype": "text/x-python",
   "name": "python",
   "nbconvert_exporter": "python",
   "pygments_lexer": "ipython3",
   "version": "3.13.5"
  }
 },
 "nbformat": 4,
 "nbformat_minor": 5
}
